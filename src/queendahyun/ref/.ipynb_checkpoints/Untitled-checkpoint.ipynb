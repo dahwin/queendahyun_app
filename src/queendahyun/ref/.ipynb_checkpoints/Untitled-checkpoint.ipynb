{
 "cells": [
  {
   "cell_type": "code",
   "execution_count": 7,
   "id": "6c50971b-ae05-4cec-86d8-7e9ed7466d36",
   "metadata": {},
   "outputs": [
    {
     "name": "stdout",
     "output_type": "stream",
     "text": [
      "https://huggingface.co/TheBloke/Starling-LM-7B-alpha-GGUF/resolve/main/starling-lm-7b-alpha.Q8_0.gguf\n",
      "/mnt/c/models/queendahyun.gguf\n"
     ]
    }
   ],
   "source": [
    "import requests\n",
    "import os\n",
    "name = 'queendahyun'\n",
    "url = {\n",
    "    'queendahyun':\"https://huggingface.co/TheBloke/Starling-LM-7B-alpha-GGUF/resolve/main/starling-lm-7b-alpha.Q8_0.gguf\",\n",
    "    'solar_instruct_10B':\"https://huggingface.co/TheBloke/SOLAR-10.7B-Instruct-v1.0-GGUF/resolve/main/solar-10.7b-instruct-v1.0.Q8_0.gguf\",\n",
    "    \"dolphin-2.5_8_7b\":\"https://huggingface.co/TheBloke/dolphin-2.5-mixtral-8x7b-GGUF/resolve/main/dolphin-2.5-mixtral-8x7b.Q6_K.gguf\"\n",
    "}\n",
    "output_path = f'/mnt/c/models/{name}.gguf'\n",
    "\n",
    "url = url[f'{name}']\n",
    "print(url)\n",
    "print(output_path)\n",
    "# Set the stream parameter to True for chunked downloading\n",
    "with requests.get(url, stream=True) as response:\n",
    "    response.raise_for_status()\n",
    "    \n",
    "    with open(output_path, 'wb') as file:\n",
    "        for chunk in response.iter_content(chunk_size=8192):  # Adjust chunk size as needed\n",
    "            if chunk:\n",
    "                file.write(chunk)\n",
    "\n",
    "print(\"Download completed successfully.\")\n"
   ]
  },
  {
   "cell_type": "code",
   "execution_count": 13,
   "id": "92e062bb-edec-482f-ab77-59acdd0e610c",
   "metadata": {},
   "outputs": [
    {
     "name": "stdout",
     "output_type": "stream",
     "text": [
      "https://huggingface.co/TheBloke/Starling-LM-7B-alpha-GGUF/resolve/main/starling-lm-7b-alpha.Q8_0.gguf\n",
      "/mnt/c/models/queendahyun.gguf\n",
      "Download of queendahyun completed successfully.\n"
     ]
    }
   ],
   "source": [
    "import argparse\n",
    "import requests\n",
    "import os\n",
    "\n",
    "def download_model(name):\n",
    "    url_dict = {\n",
    "        'queendahyun': \"https://huggingface.co/TheBloke/Starling-LM-7B-alpha-GGUF/resolve/main/starling-lm-7b-alpha.Q8_0.gguf\",\n",
    "        'solar_instruct_10B': \"https://huggingface.co/TheBloke/SOLAR-10.7B-Instruct-v1.0-GGUF/resolve/main/solar-10.7b-instruct-v1.0.Q8_0.gguf\",\n",
    "        \"dolphin-2.5_8_7b\": \"https://huggingface.co/TheBloke/dolphin-2.5-mixtral-8x7b-GGUF/resolve/main/dolphin-2.5-mixtral-8x7b.Q6_K.gguf\"\n",
    "    }\n",
    "\n",
    "    if name not in url_dict:\n",
    "        print(f\"Error: Model '{name}' not found.\")\n",
    "        return\n",
    "\n",
    "    url = url_dict[name]\n",
    "    output_path = f'/mnt/c/models/{name}.gguf'\n",
    "    print(url)\n",
    "    print(output_path)\n",
    "\n",
    "    # with requests.get(url, stream=True) as response:\n",
    "    #     response.raise_for_status()\n",
    "\n",
    "    #     with open(output_path, 'wb') as file:\n",
    "    #         for chunk in response.iter_content(chunk_size=8192):\n",
    "    #             if chunk:\n",
    "    #                 file.write(chunk)\n",
    "\n",
    "    print(f\"Download of {name} completed successfully.\")\n",
    "\n",
    "if __name__ == \"__main__\":\n",
    "    parser = argparse.ArgumentParser(description=\"Download pre-trained models from Hugging Face.\")\n",
    "    parser.add_argument(\"--name\", type=str, help=\"Name of the model to download\", required=True)\n",
    "    args = parser.parse_args()\n",
    "\n",
    "    download_model(args.name)\n"
   ]
  },
  {
   "cell_type": "code",
   "execution_count": null,
   "id": "4d085e03-1ec7-4c97-9b6a-1354279d2983",
   "metadata": {},
   "outputs": [],
   "source": []
  }
 ],
 "metadata": {
  "kernelspec": {
   "display_name": "Python 3 (ipykernel)",
   "language": "python",
   "name": "python3"
  },
  "language_info": {
   "codemirror_mode": {
    "name": "ipython",
    "version": 3
   },
   "file_extension": ".py",
   "mimetype": "text/x-python",
   "name": "python",
   "nbconvert_exporter": "python",
   "pygments_lexer": "ipython3",
   "version": "3.10.5"
  }
 },
 "nbformat": 4,
 "nbformat_minor": 5
}
