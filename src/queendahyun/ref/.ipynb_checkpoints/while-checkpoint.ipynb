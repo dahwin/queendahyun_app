{
 "cells": [
  {
   "cell_type": "code",
   "execution_count": 1,
   "id": "b60ffb96-8527-46ad-9148-881940d6da60",
   "metadata": {},
   "outputs": [],
   "source": [
    "dah = \"dahwin\""
   ]
  },
  {
   "cell_type": "code",
   "execution_count": 2,
   "id": "a12c9322-6d2e-4eea-9085-31f31a0e0974",
   "metadata": {},
   "outputs": [
    {
     "name": "stdout",
     "output_type": "stream",
     "text": [
      "True\n"
     ]
    }
   ],
   "source": [
    "if dah:\n",
    "    print(True)"
   ]
  },
  {
   "cell_type": "code",
   "execution_count": null,
   "id": "891d02be-9250-4f74-b6ef-05cca67d4392",
   "metadata": {},
   "outputs": [],
   "source": []
  }
 ],
 "metadata": {
  "kernelspec": {
   "display_name": "Python 3 (ipykernel)",
   "language": "python",
   "name": "python3"
  },
  "language_info": {
   "codemirror_mode": {
    "name": "ipython",
    "version": 3
   },
   "file_extension": ".py",
   "mimetype": "text/x-python",
   "name": "python",
   "nbconvert_exporter": "python",
   "pygments_lexer": "ipython3",
   "version": "3.10.5"
  }
 },
 "nbformat": 4,
 "nbformat_minor": 5
}
